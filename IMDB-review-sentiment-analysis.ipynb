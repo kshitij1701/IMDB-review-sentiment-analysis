{
  "cells": [
    {
      "cell_type": "markdown",
      "metadata": {
        "id": "view-in-github",
        "colab_type": "text"
      },
      "source": [
        "<a href=\"https://colab.research.google.com/github/kshitij1701/IMDB-review-sentiment-analysis/blob/main/IMDB-review-sentiment-analysis.ipynb\" target=\"_parent\"><img src=\"https://colab.research.google.com/assets/colab-badge.svg\" alt=\"Open In Colab\"/></a>"
      ]
    },
    {
      "cell_type": "markdown",
      "source": [
        "### Importing required libraries"
      ],
      "metadata": {
        "id": "hbdGlN0H9dRB"
      }
    },
    {
      "cell_type": "code",
      "source": [
        "import tensorflow as tf\n",
        "from tensorflow.keras.layers import Input, Embedding, GlobalAveragePooling1D, Dense, MultiHeadAttention\n",
        "from tensorflow.keras.models import Model\n",
        "from tensorflow.keras.preprocessing.text import Tokenizer\n",
        "from tensorflow.keras.preprocessing.sequence import pad_sequences\n",
        "from sklearn.model_selection import train_test_split\n",
        "from sklearn.metrics import accuracy_score\n",
        "import pandas as pd"
      ],
      "metadata": {
        "id": "vwTOLrWgkunu"
      },
      "execution_count": null,
      "outputs": []
    },
    {
      "cell_type": "markdown",
      "source": [
        "### Importing Dataset and pre-processing"
      ],
      "metadata": {
        "id": "J5GJ8T3O9jOJ"
      }
    },
    {
      "cell_type": "code",
      "source": [
        "df = pd.read_csv(\"/content/drive/MyDrive/Projects/IMDB reviews/IMDB Dataset.csv\")\n",
        "df.head()"
      ],
      "metadata": {
        "colab": {
          "base_uri": "https://localhost:8080/",
          "height": 206
        },
        "id": "ytL9aJxrkyVd",
        "outputId": "616c5cca-1b10-4b59-f78c-9af5c67fe602"
      },
      "execution_count": null,
      "outputs": [
        {
          "output_type": "execute_result",
          "data": {
            "text/plain": [
              "                                              review sentiment\n",
              "0  One of the other reviewers has mentioned that ...  positive\n",
              "1  A wonderful little production. <br /><br />The...  positive\n",
              "2  I thought this was a wonderful way to spend ti...  positive\n",
              "3  Basically there's a family where a little boy ...  negative\n",
              "4  Petter Mattei's \"Love in the Time of Money\" is...  positive"
            ],
            "text/html": [
              "\n",
              "  <div id=\"df-0695397c-b441-4a0c-a68a-2845ec3aaa44\" class=\"colab-df-container\">\n",
              "    <div>\n",
              "<style scoped>\n",
              "    .dataframe tbody tr th:only-of-type {\n",
              "        vertical-align: middle;\n",
              "    }\n",
              "\n",
              "    .dataframe tbody tr th {\n",
              "        vertical-align: top;\n",
              "    }\n",
              "\n",
              "    .dataframe thead th {\n",
              "        text-align: right;\n",
              "    }\n",
              "</style>\n",
              "<table border=\"1\" class=\"dataframe\">\n",
              "  <thead>\n",
              "    <tr style=\"text-align: right;\">\n",
              "      <th></th>\n",
              "      <th>review</th>\n",
              "      <th>sentiment</th>\n",
              "    </tr>\n",
              "  </thead>\n",
              "  <tbody>\n",
              "    <tr>\n",
              "      <th>0</th>\n",
              "      <td>One of the other reviewers has mentioned that ...</td>\n",
              "      <td>positive</td>\n",
              "    </tr>\n",
              "    <tr>\n",
              "      <th>1</th>\n",
              "      <td>A wonderful little production. &lt;br /&gt;&lt;br /&gt;The...</td>\n",
              "      <td>positive</td>\n",
              "    </tr>\n",
              "    <tr>\n",
              "      <th>2</th>\n",
              "      <td>I thought this was a wonderful way to spend ti...</td>\n",
              "      <td>positive</td>\n",
              "    </tr>\n",
              "    <tr>\n",
              "      <th>3</th>\n",
              "      <td>Basically there's a family where a little boy ...</td>\n",
              "      <td>negative</td>\n",
              "    </tr>\n",
              "    <tr>\n",
              "      <th>4</th>\n",
              "      <td>Petter Mattei's \"Love in the Time of Money\" is...</td>\n",
              "      <td>positive</td>\n",
              "    </tr>\n",
              "  </tbody>\n",
              "</table>\n",
              "</div>\n",
              "    <div class=\"colab-df-buttons\">\n",
              "\n",
              "  <div class=\"colab-df-container\">\n",
              "    <button class=\"colab-df-convert\" onclick=\"convertToInteractive('df-0695397c-b441-4a0c-a68a-2845ec3aaa44')\"\n",
              "            title=\"Convert this dataframe to an interactive table.\"\n",
              "            style=\"display:none;\">\n",
              "\n",
              "  <svg xmlns=\"http://www.w3.org/2000/svg\" height=\"24px\" viewBox=\"0 -960 960 960\">\n",
              "    <path d=\"M120-120v-720h720v720H120Zm60-500h600v-160H180v160Zm220 220h160v-160H400v160Zm0 220h160v-160H400v160ZM180-400h160v-160H180v160Zm440 0h160v-160H620v160ZM180-180h160v-160H180v160Zm440 0h160v-160H620v160Z\"/>\n",
              "  </svg>\n",
              "    </button>\n",
              "\n",
              "  <style>\n",
              "    .colab-df-container {\n",
              "      display:flex;\n",
              "      gap: 12px;\n",
              "    }\n",
              "\n",
              "    .colab-df-convert {\n",
              "      background-color: #E8F0FE;\n",
              "      border: none;\n",
              "      border-radius: 50%;\n",
              "      cursor: pointer;\n",
              "      display: none;\n",
              "      fill: #1967D2;\n",
              "      height: 32px;\n",
              "      padding: 0 0 0 0;\n",
              "      width: 32px;\n",
              "    }\n",
              "\n",
              "    .colab-df-convert:hover {\n",
              "      background-color: #E2EBFA;\n",
              "      box-shadow: 0px 1px 2px rgba(60, 64, 67, 0.3), 0px 1px 3px 1px rgba(60, 64, 67, 0.15);\n",
              "      fill: #174EA6;\n",
              "    }\n",
              "\n",
              "    .colab-df-buttons div {\n",
              "      margin-bottom: 4px;\n",
              "    }\n",
              "\n",
              "    [theme=dark] .colab-df-convert {\n",
              "      background-color: #3B4455;\n",
              "      fill: #D2E3FC;\n",
              "    }\n",
              "\n",
              "    [theme=dark] .colab-df-convert:hover {\n",
              "      background-color: #434B5C;\n",
              "      box-shadow: 0px 1px 3px 1px rgba(0, 0, 0, 0.15);\n",
              "      filter: drop-shadow(0px 1px 2px rgba(0, 0, 0, 0.3));\n",
              "      fill: #FFFFFF;\n",
              "    }\n",
              "  </style>\n",
              "\n",
              "    <script>\n",
              "      const buttonEl =\n",
              "        document.querySelector('#df-0695397c-b441-4a0c-a68a-2845ec3aaa44 button.colab-df-convert');\n",
              "      buttonEl.style.display =\n",
              "        google.colab.kernel.accessAllowed ? 'block' : 'none';\n",
              "\n",
              "      async function convertToInteractive(key) {\n",
              "        const element = document.querySelector('#df-0695397c-b441-4a0c-a68a-2845ec3aaa44');\n",
              "        const dataTable =\n",
              "          await google.colab.kernel.invokeFunction('convertToInteractive',\n",
              "                                                    [key], {});\n",
              "        if (!dataTable) return;\n",
              "\n",
              "        const docLinkHtml = 'Like what you see? Visit the ' +\n",
              "          '<a target=\"_blank\" href=https://colab.research.google.com/notebooks/data_table.ipynb>data table notebook</a>'\n",
              "          + ' to learn more about interactive tables.';\n",
              "        element.innerHTML = '';\n",
              "        dataTable['output_type'] = 'display_data';\n",
              "        await google.colab.output.renderOutput(dataTable, element);\n",
              "        const docLink = document.createElement('div');\n",
              "        docLink.innerHTML = docLinkHtml;\n",
              "        element.appendChild(docLink);\n",
              "      }\n",
              "    </script>\n",
              "  </div>\n",
              "\n",
              "\n",
              "<div id=\"df-d3ddbeae-a841-43b1-80a4-41c8ab494fb8\">\n",
              "  <button class=\"colab-df-quickchart\" onclick=\"quickchart('df-d3ddbeae-a841-43b1-80a4-41c8ab494fb8')\"\n",
              "            title=\"Suggest charts\"\n",
              "            style=\"display:none;\">\n",
              "\n",
              "<svg xmlns=\"http://www.w3.org/2000/svg\" height=\"24px\"viewBox=\"0 0 24 24\"\n",
              "     width=\"24px\">\n",
              "    <g>\n",
              "        <path d=\"M19 3H5c-1.1 0-2 .9-2 2v14c0 1.1.9 2 2 2h14c1.1 0 2-.9 2-2V5c0-1.1-.9-2-2-2zM9 17H7v-7h2v7zm4 0h-2V7h2v10zm4 0h-2v-4h2v4z\"/>\n",
              "    </g>\n",
              "</svg>\n",
              "  </button>\n",
              "\n",
              "<style>\n",
              "  .colab-df-quickchart {\n",
              "      --bg-color: #E8F0FE;\n",
              "      --fill-color: #1967D2;\n",
              "      --hover-bg-color: #E2EBFA;\n",
              "      --hover-fill-color: #174EA6;\n",
              "      --disabled-fill-color: #AAA;\n",
              "      --disabled-bg-color: #DDD;\n",
              "  }\n",
              "\n",
              "  [theme=dark] .colab-df-quickchart {\n",
              "      --bg-color: #3B4455;\n",
              "      --fill-color: #D2E3FC;\n",
              "      --hover-bg-color: #434B5C;\n",
              "      --hover-fill-color: #FFFFFF;\n",
              "      --disabled-bg-color: #3B4455;\n",
              "      --disabled-fill-color: #666;\n",
              "  }\n",
              "\n",
              "  .colab-df-quickchart {\n",
              "    background-color: var(--bg-color);\n",
              "    border: none;\n",
              "    border-radius: 50%;\n",
              "    cursor: pointer;\n",
              "    display: none;\n",
              "    fill: var(--fill-color);\n",
              "    height: 32px;\n",
              "    padding: 0;\n",
              "    width: 32px;\n",
              "  }\n",
              "\n",
              "  .colab-df-quickchart:hover {\n",
              "    background-color: var(--hover-bg-color);\n",
              "    box-shadow: 0 1px 2px rgba(60, 64, 67, 0.3), 0 1px 3px 1px rgba(60, 64, 67, 0.15);\n",
              "    fill: var(--button-hover-fill-color);\n",
              "  }\n",
              "\n",
              "  .colab-df-quickchart-complete:disabled,\n",
              "  .colab-df-quickchart-complete:disabled:hover {\n",
              "    background-color: var(--disabled-bg-color);\n",
              "    fill: var(--disabled-fill-color);\n",
              "    box-shadow: none;\n",
              "  }\n",
              "\n",
              "  .colab-df-spinner {\n",
              "    border: 2px solid var(--fill-color);\n",
              "    border-color: transparent;\n",
              "    border-bottom-color: var(--fill-color);\n",
              "    animation:\n",
              "      spin 1s steps(1) infinite;\n",
              "  }\n",
              "\n",
              "  @keyframes spin {\n",
              "    0% {\n",
              "      border-color: transparent;\n",
              "      border-bottom-color: var(--fill-color);\n",
              "      border-left-color: var(--fill-color);\n",
              "    }\n",
              "    20% {\n",
              "      border-color: transparent;\n",
              "      border-left-color: var(--fill-color);\n",
              "      border-top-color: var(--fill-color);\n",
              "    }\n",
              "    30% {\n",
              "      border-color: transparent;\n",
              "      border-left-color: var(--fill-color);\n",
              "      border-top-color: var(--fill-color);\n",
              "      border-right-color: var(--fill-color);\n",
              "    }\n",
              "    40% {\n",
              "      border-color: transparent;\n",
              "      border-right-color: var(--fill-color);\n",
              "      border-top-color: var(--fill-color);\n",
              "    }\n",
              "    60% {\n",
              "      border-color: transparent;\n",
              "      border-right-color: var(--fill-color);\n",
              "    }\n",
              "    80% {\n",
              "      border-color: transparent;\n",
              "      border-right-color: var(--fill-color);\n",
              "      border-bottom-color: var(--fill-color);\n",
              "    }\n",
              "    90% {\n",
              "      border-color: transparent;\n",
              "      border-bottom-color: var(--fill-color);\n",
              "    }\n",
              "  }\n",
              "</style>\n",
              "\n",
              "  <script>\n",
              "    async function quickchart(key) {\n",
              "      const quickchartButtonEl =\n",
              "        document.querySelector('#' + key + ' button');\n",
              "      quickchartButtonEl.disabled = true;  // To prevent multiple clicks.\n",
              "      quickchartButtonEl.classList.add('colab-df-spinner');\n",
              "      try {\n",
              "        const charts = await google.colab.kernel.invokeFunction(\n",
              "            'suggestCharts', [key], {});\n",
              "      } catch (error) {\n",
              "        console.error('Error during call to suggestCharts:', error);\n",
              "      }\n",
              "      quickchartButtonEl.classList.remove('colab-df-spinner');\n",
              "      quickchartButtonEl.classList.add('colab-df-quickchart-complete');\n",
              "    }\n",
              "    (() => {\n",
              "      let quickchartButtonEl =\n",
              "        document.querySelector('#df-d3ddbeae-a841-43b1-80a4-41c8ab494fb8 button');\n",
              "      quickchartButtonEl.style.display =\n",
              "        google.colab.kernel.accessAllowed ? 'block' : 'none';\n",
              "    })();\n",
              "  </script>\n",
              "</div>\n",
              "    </div>\n",
              "  </div>\n"
            ]
          },
          "metadata": {},
          "execution_count": 3
        }
      ]
    },
    {
      "cell_type": "code",
      "source": [
        "df.info()"
      ],
      "metadata": {
        "colab": {
          "base_uri": "https://localhost:8080/"
        },
        "id": "bwpL0x1dyGay",
        "outputId": "56b937cc-df39-40bf-fea6-0d5288be1343"
      },
      "execution_count": null,
      "outputs": [
        {
          "output_type": "stream",
          "name": "stdout",
          "text": [
            "<class 'pandas.core.frame.DataFrame'>\n",
            "RangeIndex: 50000 entries, 0 to 49999\n",
            "Data columns (total 2 columns):\n",
            " #   Column     Non-Null Count  Dtype \n",
            "---  ------     --------------  ----- \n",
            " 0   review     50000 non-null  object\n",
            " 1   sentiment  50000 non-null  object\n",
            "dtypes: object(2)\n",
            "memory usage: 781.4+ KB\n"
          ]
        }
      ]
    },
    {
      "cell_type": "code",
      "source": [
        "df['sentiment'] = df['sentiment'].map({'positive': 1, 'negative': 0})"
      ],
      "metadata": {
        "id": "t2TjNYsRk0IF"
      },
      "execution_count": null,
      "outputs": []
    },
    {
      "cell_type": "code",
      "source": [
        "df.head()"
      ],
      "metadata": {
        "colab": {
          "base_uri": "https://localhost:8080/",
          "height": 206
        },
        "id": "f2aBVaLvy1eZ",
        "outputId": "ca9eaccc-e9b1-4984-b72d-6b72159fd94c"
      },
      "execution_count": null,
      "outputs": [
        {
          "output_type": "execute_result",
          "data": {
            "text/plain": [
              "                                              review  sentiment\n",
              "0  One of the other reviewers has mentioned that ...          1\n",
              "1  A wonderful little production. <br /><br />The...          1\n",
              "2  I thought this was a wonderful way to spend ti...          1\n",
              "3  Basically there's a family where a little boy ...          0\n",
              "4  Petter Mattei's \"Love in the Time of Money\" is...          1"
            ],
            "text/html": [
              "\n",
              "  <div id=\"df-293ef95e-1283-41a5-8746-1e7503257b12\" class=\"colab-df-container\">\n",
              "    <div>\n",
              "<style scoped>\n",
              "    .dataframe tbody tr th:only-of-type {\n",
              "        vertical-align: middle;\n",
              "    }\n",
              "\n",
              "    .dataframe tbody tr th {\n",
              "        vertical-align: top;\n",
              "    }\n",
              "\n",
              "    .dataframe thead th {\n",
              "        text-align: right;\n",
              "    }\n",
              "</style>\n",
              "<table border=\"1\" class=\"dataframe\">\n",
              "  <thead>\n",
              "    <tr style=\"text-align: right;\">\n",
              "      <th></th>\n",
              "      <th>review</th>\n",
              "      <th>sentiment</th>\n",
              "    </tr>\n",
              "  </thead>\n",
              "  <tbody>\n",
              "    <tr>\n",
              "      <th>0</th>\n",
              "      <td>One of the other reviewers has mentioned that ...</td>\n",
              "      <td>1</td>\n",
              "    </tr>\n",
              "    <tr>\n",
              "      <th>1</th>\n",
              "      <td>A wonderful little production. &lt;br /&gt;&lt;br /&gt;The...</td>\n",
              "      <td>1</td>\n",
              "    </tr>\n",
              "    <tr>\n",
              "      <th>2</th>\n",
              "      <td>I thought this was a wonderful way to spend ti...</td>\n",
              "      <td>1</td>\n",
              "    </tr>\n",
              "    <tr>\n",
              "      <th>3</th>\n",
              "      <td>Basically there's a family where a little boy ...</td>\n",
              "      <td>0</td>\n",
              "    </tr>\n",
              "    <tr>\n",
              "      <th>4</th>\n",
              "      <td>Petter Mattei's \"Love in the Time of Money\" is...</td>\n",
              "      <td>1</td>\n",
              "    </tr>\n",
              "  </tbody>\n",
              "</table>\n",
              "</div>\n",
              "    <div class=\"colab-df-buttons\">\n",
              "\n",
              "  <div class=\"colab-df-container\">\n",
              "    <button class=\"colab-df-convert\" onclick=\"convertToInteractive('df-293ef95e-1283-41a5-8746-1e7503257b12')\"\n",
              "            title=\"Convert this dataframe to an interactive table.\"\n",
              "            style=\"display:none;\">\n",
              "\n",
              "  <svg xmlns=\"http://www.w3.org/2000/svg\" height=\"24px\" viewBox=\"0 -960 960 960\">\n",
              "    <path d=\"M120-120v-720h720v720H120Zm60-500h600v-160H180v160Zm220 220h160v-160H400v160Zm0 220h160v-160H400v160ZM180-400h160v-160H180v160Zm440 0h160v-160H620v160ZM180-180h160v-160H180v160Zm440 0h160v-160H620v160Z\"/>\n",
              "  </svg>\n",
              "    </button>\n",
              "\n",
              "  <style>\n",
              "    .colab-df-container {\n",
              "      display:flex;\n",
              "      gap: 12px;\n",
              "    }\n",
              "\n",
              "    .colab-df-convert {\n",
              "      background-color: #E8F0FE;\n",
              "      border: none;\n",
              "      border-radius: 50%;\n",
              "      cursor: pointer;\n",
              "      display: none;\n",
              "      fill: #1967D2;\n",
              "      height: 32px;\n",
              "      padding: 0 0 0 0;\n",
              "      width: 32px;\n",
              "    }\n",
              "\n",
              "    .colab-df-convert:hover {\n",
              "      background-color: #E2EBFA;\n",
              "      box-shadow: 0px 1px 2px rgba(60, 64, 67, 0.3), 0px 1px 3px 1px rgba(60, 64, 67, 0.15);\n",
              "      fill: #174EA6;\n",
              "    }\n",
              "\n",
              "    .colab-df-buttons div {\n",
              "      margin-bottom: 4px;\n",
              "    }\n",
              "\n",
              "    [theme=dark] .colab-df-convert {\n",
              "      background-color: #3B4455;\n",
              "      fill: #D2E3FC;\n",
              "    }\n",
              "\n",
              "    [theme=dark] .colab-df-convert:hover {\n",
              "      background-color: #434B5C;\n",
              "      box-shadow: 0px 1px 3px 1px rgba(0, 0, 0, 0.15);\n",
              "      filter: drop-shadow(0px 1px 2px rgba(0, 0, 0, 0.3));\n",
              "      fill: #FFFFFF;\n",
              "    }\n",
              "  </style>\n",
              "\n",
              "    <script>\n",
              "      const buttonEl =\n",
              "        document.querySelector('#df-293ef95e-1283-41a5-8746-1e7503257b12 button.colab-df-convert');\n",
              "      buttonEl.style.display =\n",
              "        google.colab.kernel.accessAllowed ? 'block' : 'none';\n",
              "\n",
              "      async function convertToInteractive(key) {\n",
              "        const element = document.querySelector('#df-293ef95e-1283-41a5-8746-1e7503257b12');\n",
              "        const dataTable =\n",
              "          await google.colab.kernel.invokeFunction('convertToInteractive',\n",
              "                                                    [key], {});\n",
              "        if (!dataTable) return;\n",
              "\n",
              "        const docLinkHtml = 'Like what you see? Visit the ' +\n",
              "          '<a target=\"_blank\" href=https://colab.research.google.com/notebooks/data_table.ipynb>data table notebook</a>'\n",
              "          + ' to learn more about interactive tables.';\n",
              "        element.innerHTML = '';\n",
              "        dataTable['output_type'] = 'display_data';\n",
              "        await google.colab.output.renderOutput(dataTable, element);\n",
              "        const docLink = document.createElement('div');\n",
              "        docLink.innerHTML = docLinkHtml;\n",
              "        element.appendChild(docLink);\n",
              "      }\n",
              "    </script>\n",
              "  </div>\n",
              "\n",
              "\n",
              "<div id=\"df-339ecb0f-7fde-4ef8-a30d-00cb2d50e0df\">\n",
              "  <button class=\"colab-df-quickchart\" onclick=\"quickchart('df-339ecb0f-7fde-4ef8-a30d-00cb2d50e0df')\"\n",
              "            title=\"Suggest charts\"\n",
              "            style=\"display:none;\">\n",
              "\n",
              "<svg xmlns=\"http://www.w3.org/2000/svg\" height=\"24px\"viewBox=\"0 0 24 24\"\n",
              "     width=\"24px\">\n",
              "    <g>\n",
              "        <path d=\"M19 3H5c-1.1 0-2 .9-2 2v14c0 1.1.9 2 2 2h14c1.1 0 2-.9 2-2V5c0-1.1-.9-2-2-2zM9 17H7v-7h2v7zm4 0h-2V7h2v10zm4 0h-2v-4h2v4z\"/>\n",
              "    </g>\n",
              "</svg>\n",
              "  </button>\n",
              "\n",
              "<style>\n",
              "  .colab-df-quickchart {\n",
              "      --bg-color: #E8F0FE;\n",
              "      --fill-color: #1967D2;\n",
              "      --hover-bg-color: #E2EBFA;\n",
              "      --hover-fill-color: #174EA6;\n",
              "      --disabled-fill-color: #AAA;\n",
              "      --disabled-bg-color: #DDD;\n",
              "  }\n",
              "\n",
              "  [theme=dark] .colab-df-quickchart {\n",
              "      --bg-color: #3B4455;\n",
              "      --fill-color: #D2E3FC;\n",
              "      --hover-bg-color: #434B5C;\n",
              "      --hover-fill-color: #FFFFFF;\n",
              "      --disabled-bg-color: #3B4455;\n",
              "      --disabled-fill-color: #666;\n",
              "  }\n",
              "\n",
              "  .colab-df-quickchart {\n",
              "    background-color: var(--bg-color);\n",
              "    border: none;\n",
              "    border-radius: 50%;\n",
              "    cursor: pointer;\n",
              "    display: none;\n",
              "    fill: var(--fill-color);\n",
              "    height: 32px;\n",
              "    padding: 0;\n",
              "    width: 32px;\n",
              "  }\n",
              "\n",
              "  .colab-df-quickchart:hover {\n",
              "    background-color: var(--hover-bg-color);\n",
              "    box-shadow: 0 1px 2px rgba(60, 64, 67, 0.3), 0 1px 3px 1px rgba(60, 64, 67, 0.15);\n",
              "    fill: var(--button-hover-fill-color);\n",
              "  }\n",
              "\n",
              "  .colab-df-quickchart-complete:disabled,\n",
              "  .colab-df-quickchart-complete:disabled:hover {\n",
              "    background-color: var(--disabled-bg-color);\n",
              "    fill: var(--disabled-fill-color);\n",
              "    box-shadow: none;\n",
              "  }\n",
              "\n",
              "  .colab-df-spinner {\n",
              "    border: 2px solid var(--fill-color);\n",
              "    border-color: transparent;\n",
              "    border-bottom-color: var(--fill-color);\n",
              "    animation:\n",
              "      spin 1s steps(1) infinite;\n",
              "  }\n",
              "\n",
              "  @keyframes spin {\n",
              "    0% {\n",
              "      border-color: transparent;\n",
              "      border-bottom-color: var(--fill-color);\n",
              "      border-left-color: var(--fill-color);\n",
              "    }\n",
              "    20% {\n",
              "      border-color: transparent;\n",
              "      border-left-color: var(--fill-color);\n",
              "      border-top-color: var(--fill-color);\n",
              "    }\n",
              "    30% {\n",
              "      border-color: transparent;\n",
              "      border-left-color: var(--fill-color);\n",
              "      border-top-color: var(--fill-color);\n",
              "      border-right-color: var(--fill-color);\n",
              "    }\n",
              "    40% {\n",
              "      border-color: transparent;\n",
              "      border-right-color: var(--fill-color);\n",
              "      border-top-color: var(--fill-color);\n",
              "    }\n",
              "    60% {\n",
              "      border-color: transparent;\n",
              "      border-right-color: var(--fill-color);\n",
              "    }\n",
              "    80% {\n",
              "      border-color: transparent;\n",
              "      border-right-color: var(--fill-color);\n",
              "      border-bottom-color: var(--fill-color);\n",
              "    }\n",
              "    90% {\n",
              "      border-color: transparent;\n",
              "      border-bottom-color: var(--fill-color);\n",
              "    }\n",
              "  }\n",
              "</style>\n",
              "\n",
              "  <script>\n",
              "    async function quickchart(key) {\n",
              "      const quickchartButtonEl =\n",
              "        document.querySelector('#' + key + ' button');\n",
              "      quickchartButtonEl.disabled = true;  // To prevent multiple clicks.\n",
              "      quickchartButtonEl.classList.add('colab-df-spinner');\n",
              "      try {\n",
              "        const charts = await google.colab.kernel.invokeFunction(\n",
              "            'suggestCharts', [key], {});\n",
              "      } catch (error) {\n",
              "        console.error('Error during call to suggestCharts:', error);\n",
              "      }\n",
              "      quickchartButtonEl.classList.remove('colab-df-spinner');\n",
              "      quickchartButtonEl.classList.add('colab-df-quickchart-complete');\n",
              "    }\n",
              "    (() => {\n",
              "      let quickchartButtonEl =\n",
              "        document.querySelector('#df-339ecb0f-7fde-4ef8-a30d-00cb2d50e0df button');\n",
              "      quickchartButtonEl.style.display =\n",
              "        google.colab.kernel.accessAllowed ? 'block' : 'none';\n",
              "    })();\n",
              "  </script>\n",
              "</div>\n",
              "    </div>\n",
              "  </div>\n"
            ]
          },
          "metadata": {},
          "execution_count": 6
        }
      ]
    },
    {
      "cell_type": "code",
      "source": [
        "train_data, test_data = train_test_split(df, test_size=0.2, random_state=42)\n",
        "train_data, valid_data = train_test_split(train_data, test_size=0.1, random_state=42)"
      ],
      "metadata": {
        "id": "PUjU74FHk22t"
      },
      "execution_count": null,
      "outputs": []
    },
    {
      "cell_type": "code",
      "source": [
        "max_words = 10000\n",
        "max_len = 200\n",
        "\n",
        "tokenizer = Tokenizer(num_words=max_words, oov_token=\"<OOV>\")\n",
        "tokenizer.fit_on_texts(train_data['review'])"
      ],
      "metadata": {
        "id": "P2KWDtpTk-GF"
      },
      "execution_count": null,
      "outputs": []
    },
    {
      "cell_type": "code",
      "source": [
        "X_train = pad_sequences(tokenizer.texts_to_sequences(train_data['review']), maxlen=max_len)\n",
        "X_valid = pad_sequences(tokenizer.texts_to_sequences(valid_data['review']), maxlen=max_len)\n",
        "X_test = pad_sequences(tokenizer.texts_to_sequences(test_data['review']), maxlen=max_len)"
      ],
      "metadata": {
        "id": "ItRlryHRk_f1"
      },
      "execution_count": null,
      "outputs": []
    },
    {
      "cell_type": "markdown",
      "source": [
        "### Creating Transformer Model"
      ],
      "metadata": {
        "id": "UjxRmUUX9rKC"
      }
    },
    {
      "cell_type": "markdown",
      "source": [
        "## ![modelarch.png](data:image/png;base64,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)"
      ],
      "metadata": {
        "id": "RQ3xHKo_-JAR"
      }
    },
    {
      "cell_type": "code",
      "source": [
        "def transformer_model(input_dim, embed_dim, num_heads, ff_dim, output_dim, max_len):\n",
        "    inputs = Input(shape=(max_len,))\n",
        "    x = Embedding(input_dim, embed_dim)(inputs)\n",
        "    x = MultiHeadAttention(num_heads=num_heads, key_dim=embed_dim)(x, x)\n",
        "    x = GlobalAveragePooling1D()(x)\n",
        "    x = Dense(ff_dim, activation='relu')(x)\n",
        "    outputs = Dense(output_dim, activation='sigmoid')(x)\n",
        "    return Model(inputs=inputs, outputs=outputs)"
      ],
      "metadata": {
        "id": "B-v-U-UrlCAu"
      },
      "execution_count": null,
      "outputs": []
    },
    {
      "cell_type": "code",
      "source": [
        "embed_dim = 64\n",
        "num_heads = 4\n",
        "ff_dim = 64\n",
        "output_dim = 1"
      ],
      "metadata": {
        "id": "PPcBkal3lD2W"
      },
      "execution_count": null,
      "outputs": []
    },
    {
      "cell_type": "code",
      "source": [
        "model = transformer_model(max_words, embed_dim, num_heads, ff_dim, output_dim, max_len)\n",
        "model.compile(optimizer=tf.keras.optimizers.Adam(learning_rate=0.01), loss='binary_crossentropy', metrics=['accuracy'])"
      ],
      "metadata": {
        "id": "EZ8wOXVmlZ2u"
      },
      "execution_count": null,
      "outputs": []
    },
    {
      "cell_type": "markdown",
      "source": [
        "### Model Training"
      ],
      "metadata": {
        "id": "SzJXQZpX9wNA"
      }
    },
    {
      "cell_type": "code",
      "source": [
        "model.fit(X_train, train_data['sentiment'], epochs=10, batch_size=64, validation_data=(X_valid, valid_data['sentiment']))"
      ],
      "metadata": {
        "colab": {
          "base_uri": "https://localhost:8080/"
        },
        "id": "CRHbqccklbYn",
        "outputId": "33a618ab-fcb5-41c9-dd40-8db5c4e2045b"
      },
      "execution_count": null,
      "outputs": [
        {
          "output_type": "stream",
          "name": "stdout",
          "text": [
            "Epoch 1/10\n",
            "563/563 [==============================] - 402s 712ms/step - loss: 0.3555 - accuracy: 0.8306 - val_loss: 0.2819 - val_accuracy: 0.8810\n",
            "Epoch 2/10\n",
            "563/563 [==============================] - 397s 705ms/step - loss: 0.2246 - accuracy: 0.9121 - val_loss: 0.2929 - val_accuracy: 0.8758\n",
            "Epoch 3/10\n",
            "563/563 [==============================] - 396s 703ms/step - loss: 0.1914 - accuracy: 0.9286 - val_loss: 0.3016 - val_accuracy: 0.8740\n",
            "Epoch 4/10\n",
            "563/563 [==============================] - 397s 704ms/step - loss: 0.1634 - accuracy: 0.9375 - val_loss: 0.3199 - val_accuracy: 0.8750\n",
            "Epoch 5/10\n",
            "563/563 [==============================] - 479s 851ms/step - loss: 0.1294 - accuracy: 0.9480 - val_loss: 0.4266 - val_accuracy: 0.8625\n",
            "Epoch 6/10\n",
            "563/563 [==============================] - 399s 709ms/step - loss: 0.0999 - accuracy: 0.9594 - val_loss: 0.5433 - val_accuracy: 0.8675\n",
            "Epoch 7/10\n",
            "563/563 [==============================] - 398s 707ms/step - loss: 0.0792 - accuracy: 0.9682 - val_loss: 0.5984 - val_accuracy: 0.8622\n",
            "Epoch 8/10\n",
            "563/563 [==============================] - 397s 706ms/step - loss: 0.0601 - accuracy: 0.9764 - val_loss: 0.6836 - val_accuracy: 0.8493\n",
            "Epoch 9/10\n",
            "563/563 [==============================] - 397s 705ms/step - loss: 0.0490 - accuracy: 0.9808 - val_loss: 0.7591 - val_accuracy: 0.8558\n",
            "Epoch 10/10\n",
            "563/563 [==============================] - 397s 705ms/step - loss: 0.0373 - accuracy: 0.9861 - val_loss: 0.9439 - val_accuracy: 0.8558\n"
          ]
        },
        {
          "output_type": "execute_result",
          "data": {
            "text/plain": [
              "<keras.src.callbacks.History at 0x7e3d22e69360>"
            ]
          },
          "metadata": {},
          "execution_count": 13
        }
      ]
    },
    {
      "cell_type": "markdown",
      "source": [
        "### Model Evaluation"
      ],
      "metadata": {
        "id": "NcvF41aJ90en"
      }
    },
    {
      "cell_type": "code",
      "source": [
        "from sklearn.metrics import accuracy_score, precision_score, recall_score, f1_score, confusion_matrix"
      ],
      "metadata": {
        "id": "w9TkS1Hmrw6O"
      },
      "execution_count": null,
      "outputs": []
    },
    {
      "cell_type": "code",
      "source": [
        "y_pred = model.predict(X_test)\n",
        "y_pred_binary = [1 if pred > 0.5 else 0 for pred in y_pred]\n",
        "test_acc = accuracy_score(test_data['sentiment'], y_pred_binary)\n",
        "print(f'Test Accuracy: {test_acc*100:.2f}%')\n",
        "\n",
        "precision = precision_score(test_data['sentiment'], y_pred_binary)\n",
        "recall = recall_score(test_data['sentiment'], y_pred_binary)\n",
        "f1 = f1_score(test_data['sentiment'], y_pred_binary)\n",
        "\n",
        "print(f'Precision: {precision:.4f}')\n",
        "print(f'Recall: {recall:.4f}')\n",
        "print(f'F1-score: {f1:.4f}')\n",
        "\n",
        "conf_matrix = confusion_matrix(test_data['sentiment'], y_pred_binary)\n",
        "print('Confusion Matrix:')\n",
        "print(conf_matrix)\n"
      ],
      "metadata": {
        "colab": {
          "base_uri": "https://localhost:8080/"
        },
        "id": "Wt0_2FLfldfz",
        "outputId": "6772085d-6d54-4454-9250-3b0f4f077f10"
      },
      "execution_count": null,
      "outputs": [
        {
          "output_type": "stream",
          "name": "stdout",
          "text": [
            "313/313 [==============================] - 39s 125ms/step\n",
            "Test Accuracy: 86.00%\n",
            "Precision: 0.8654\n",
            "Recall: 0.8551\n",
            "F1-score: 0.8603\n",
            "Confusion Matrix:\n",
            "[[4291  670]\n",
            " [ 730 4309]]\n"
          ]
        }
      ]
    },
    {
      "cell_type": "markdown",
      "source": [
        "### Saving The Model"
      ],
      "metadata": {
        "id": "C1kms_s394P4"
      }
    },
    {
      "cell_type": "code",
      "source": [
        "model.save(\"/content/drive/MyDrive/Projects/IMDB reviews/sentiment_model.h5\")"
      ],
      "metadata": {
        "colab": {
          "base_uri": "https://localhost:8080/"
        },
        "id": "OGGP61r1jDu2",
        "outputId": "3e2d8e02-2065-4a45-ae61-6db0106a3a31"
      },
      "execution_count": null,
      "outputs": [
        {
          "output_type": "stream",
          "name": "stderr",
          "text": [
            "/usr/local/lib/python3.10/dist-packages/keras/src/engine/training.py:3079: UserWarning: You are saving your model as an HDF5 file via `model.save()`. This file format is considered legacy. We recommend using instead the native Keras format, e.g. `model.save('my_model.keras')`.\n",
            "  saving_api.save_model(\n"
          ]
        }
      ]
    },
    {
      "cell_type": "markdown",
      "source": [
        "### Model's prediction on random review"
      ],
      "metadata": {
        "id": "7326WFIV97zA"
      }
    },
    {
      "cell_type": "code",
      "source": [
        "import numpy as np"
      ],
      "metadata": {
        "id": "GslBt7X_kNWV"
      },
      "execution_count": null,
      "outputs": []
    },
    {
      "cell_type": "code",
      "source": [
        "new_data = [\"Phil the Alien is one of those quirky films where the humour is based around the oddness of everything rather than actual punchlines.At first it was very odd and pretty funny but as the movie progressed I didn't find the jokes or oddness funny anymore.Its a low budget film (thats never a problem in itself), there were some pretty interesting characters, but eventually I just lost interest.I imagine this film would appeal to a stoner who is currently partaking.For something similar but better try Brother from another planet\"]\n",
        "sequences = pad_sequences(tokenizer.texts_to_sequences(new_data), maxlen=max_len)\n",
        "predictions = model.predict(sequences)\n",
        "\n",
        "predicted_labels = [\"positive\" if pred > 0.6 else \"negative\" for pred in predictions]\n",
        "\n",
        "print(predicted_labels)"
      ],
      "metadata": {
        "colab": {
          "base_uri": "https://localhost:8080/"
        },
        "id": "WACzzeCvjK2H",
        "outputId": "f0d6a9de-4e69-45bb-b823-d9d2a70b5d93"
      },
      "execution_count": null,
      "outputs": [
        {
          "output_type": "stream",
          "name": "stdout",
          "text": [
            "1/1 [==============================] - 0s 24ms/step\n",
            "['negative']\n"
          ]
        }
      ]
    },
    {
      "cell_type": "code",
      "source": [
        "new_data = [\"Some films just simply should not be remade. This is one of them.In and of itself it is not a bad film. But it fails to capture the flavor and the terror of the 1963 film of the same title. Liam Neeson was excellent as he always is, and most of the cast holds up, with the exception of Owen Wilson, who just did not bring the right feel to the character of Luke. But the major fault with this version is that it strayed too far from the Shirley Jackson story in it's attempts to be grandiose and lost some of the thrill of the earlier film in a trade off for snazzier special effects. Again I will say that in and of itself it is not a bad film. But you will enjoy the friction of terror in the older version much more.\"]\n",
        "sequences = pad_sequences(tokenizer.texts_to_sequences(new_data), maxlen=max_len)\n",
        "predictions = model.predict(sequences)\n",
        "\n",
        "predicted_labels = [\"positive\" if pred > 0.6 else \"negative\" for pred in predictions]\n",
        "\n",
        "print(predicted_labels)"
      ],
      "metadata": {
        "colab": {
          "base_uri": "https://localhost:8080/"
        },
        "id": "mACmLBcVosbv",
        "outputId": "c2a6081b-bffb-4845-f46d-279e2ccba1ce"
      },
      "execution_count": null,
      "outputs": [
        {
          "output_type": "stream",
          "name": "stdout",
          "text": [
            "1/1 [==============================] - 0s 24ms/step\n",
            "['positive']\n"
          ]
        }
      ]
    },
    {
      "cell_type": "code",
      "source": [
        "new_data = [\"If you want to know the real story of the Wendigo, I suggest you pick up a copy of Algernon Blackwell's original story. This movie was not only bad but had nothing to do with the book.I loved the book when I read it as a kid (In Campfire Chillers by E.M. Freeman)and was so excited to see a movie based on it come out. I was so disappointed when I finally saw it. Another thing is that there were too many PC (Politically Correct) undertones throughout the movie that had no place in the film. When the book was written PC didn't even exist.My suggestion is don't waste your time or money!! If you see it on the video store shelf LEAVE IT THERE.\"]\n",
        "sequences = pad_sequences(tokenizer.texts_to_sequences(new_data), maxlen=max_len)\n",
        "predictions = model.predict(sequences)\n",
        "\n",
        "predicted_labels = [\"positive\" if pred > 0.6 else \"negative\" for pred in predictions]\n",
        "\n",
        "print(predicted_labels)"
      ],
      "metadata": {
        "colab": {
          "base_uri": "https://localhost:8080/"
        },
        "id": "PTgpvdmDpO-g",
        "outputId": "84d90ee3-f7f6-4ecc-a020-36dcfc20a24e"
      },
      "execution_count": null,
      "outputs": [
        {
          "output_type": "stream",
          "name": "stdout",
          "text": [
            "1/1 [==============================] - 0s 23ms/step\n",
            "['negative']\n"
          ]
        }
      ]
    },
    {
      "cell_type": "code",
      "source": [
        "new_data = [\"Tears of Kali is an original yet flawed horror film that delves into the doings of a cult group in India comprised of German psychologists who have learned how to control their wills and their bodies to the point that they can cause others to be healed through radical techniques (that can trigger nightmarish hallucinations and physical pain and torture) to release the pent-up demons inside them.The film is shown as a series of vignettes about the Taylor-Eriksson group--the above-mentioned cult group. The first segment is somewhat slower than the rest but serves fine to set up the premise for the rest of the film. The rest of it plays out like a mindf@ck film with some of the key staples thrown in the mix (full-frontal nudity, some gore) to keep you happy.I say check this out. May not be spectacular, but it's concept is pretty neato and it delivers in the right spots. 8/10.\"]\n",
        "sequences = pad_sequences(tokenizer.texts_to_sequences(new_data), maxlen=max_len)\n",
        "predictions = model.predict(sequences)\n",
        "\n",
        "predicted_labels = [\"positive\" if pred > 0.6 else \"negative\" for pred in predictions]\n",
        "\n",
        "print(predicted_labels)"
      ],
      "metadata": {
        "colab": {
          "base_uri": "https://localhost:8080/"
        },
        "id": "1OoUoT4NpmI0",
        "outputId": "cb2d6f78-de36-4b50-92f4-f6b99470add0"
      },
      "execution_count": null,
      "outputs": [
        {
          "output_type": "stream",
          "name": "stdout",
          "text": [
            "1/1 [==============================] - 0s 27ms/step\n",
            "['positive']\n"
          ]
        }
      ]
    }
  ],
  "metadata": {
    "colab": {
      "provenance": [],
      "gpuType": "T4",
      "mount_file_id": "1e2N0JtcTdA8ik_N0llJFr_5aC2bYgAap",
      "authorship_tag": "ABX9TyPnB9++3/ARkdyC4eiFJN97",
      "include_colab_link": true
    },
    "kernelspec": {
      "display_name": "Python 3",
      "name": "python3"
    },
    "language_info": {
      "name": "python"
    },
    "accelerator": "GPU"
  },
  "nbformat": 4,
  "nbformat_minor": 0
}